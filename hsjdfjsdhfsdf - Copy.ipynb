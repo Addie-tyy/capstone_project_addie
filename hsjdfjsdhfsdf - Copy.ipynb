{
 "cells": [
  {
   "cell_type": "code",
   "execution_count": 1,
   "id": "096dd803-c28a-41d3-91ad-2863975ee036",
   "metadata": {},
   "outputs": [],
   "source": [
    "import pandas as pd\n",
    "\n",
    "# Creating a sample customer support dataset for demonstration purposes\n",
    "data = {\n",
    "    'query': [\n",
    "        'How can I reset my password?',\n",
    "        'What is the status of my order?',\n",
    "        'How do I update my billing information?',\n",
    "        'Can I change my shipping address?',\n",
    "        'What are your return policies?'\n",
    "    ],\n",
    "    'response': [\n",
    "        'To reset your password, go to the login page and click on \"Forgot Password\". Follow the instructions to reset your password.',\n",
    "        'You can check the status of your order by logging into your account and going to the \"Order History\" section.',\n",
    "        'To update your billing information, log into your account and go to the \"Billing Information\" section. Make the necessary changes and save them.',\n",
    "        'Yes, you can change your shipping address by logging into your account and going to the \"Shipping Address\" section.',\n",
    "        'Our return policies are available on our website under the \"Returns\" section. You can return most items within 30 days of purchase.'\n",
    "    ]\n",
    "}\n",
    "\n",
    "# Converting the data into a DataFrame\n",
    "df = pd.DataFrame(data)"
   ]
  },
  {
   "cell_type": "code",
   "execution_count": 3,
   "id": "1b7e2aea-30bf-4b4e-bbd8-2481e40e6797",
   "metadata": {},
   "outputs": [
    {
     "name": "stdout",
     "output_type": "stream",
     "text": [
      "Dataset saved to sample_customer_support_data.csv\n"
     ]
    }
   ],
   "source": [
    "file_path = 'sample_customer_support_data.csv'\n",
    "df.to_csv(file_path, index=False)\n",
    "\n",
    "print(f\"Dataset saved to {file_path}\")\n"
   ]
  },
  {
   "cell_type": "code",
   "execution_count": 26,
   "id": "8fbe490e-1d70-4ff5-b8b2-853a56a30f3f",
   "metadata": {},
   "outputs": [
    {
     "name": "stdout",
     "output_type": "stream",
     "text": [
      "Dataset saved to customer_interactions.csv\n"
     ]
    }
   ],
   "source": [
    "import pandas as pd\n",
    "\n",
    "# Creating a sample customer interaction dataset for demonstration purposes\n",
    "data = {\n",
    "    'interaction': [\n",
    "        'How can I reset my password?',\n",
    "        'What is the status of my order?',\n",
    "        'How do I update my billing information?',\n",
    "        'Can I change my shipping address?',\n",
    "        'What are your return policies?',\n",
    "        'How can I reset my password?',\n",
    "        'How can I reset my password?',\n",
    "        'What is the status of my order?',\n",
    "        'Can I change my shipping address?',\n",
    "        'What are your return policies?',\n",
    "        'How do I update my billing information?',\n",
    "        'What is the status of my order?'\n",
    "    ]\n",
    "}\n",
    "\n",
    "# Converting the data into a DataFrame\n",
    "customer_data = pd.DataFrame(data)\n",
    "\n",
    "# Saving the DataFrame to a CSV file\n",
    "file_path = 'customer_interactions.csv'\n",
    "customer_data.to_csv(file_path, index=False)\n",
    "\n",
    "print(f\"Dataset saved to {file_path}\")"
   ]
  },
  {
   "cell_type": "code",
   "execution_count": 28,
   "id": "7ca26507-5866-47e9-9fc4-d46c3c9e431c",
   "metadata": {},
   "outputs": [
    {
     "ename": "SyntaxError",
     "evalue": "invalid syntax (3371709180.py, line 1)",
     "output_type": "error",
     "traceback": [
      "\u001b[1;36m  Cell \u001b[1;32mIn[28], line 1\u001b[1;36m\u001b[0m\n\u001b[1;33m    python create_customer_interactions.py\u001b[0m\n\u001b[1;37m           ^\u001b[0m\n\u001b[1;31mSyntaxError\u001b[0m\u001b[1;31m:\u001b[0m invalid syntax\n"
     ]
    }
   ],
   "source": [
    "\n"
   ]
  },
  {
   "cell_type": "code",
   "execution_count": null,
   "id": "c0414967-cf2e-455f-8789-7065329a1da6",
   "metadata": {},
   "outputs": [],
   "source": []
  }
 ],
 "metadata": {
  "kernelspec": {
   "display_name": "Python 3 (ipykernel)",
   "language": "python",
   "name": "python3"
  },
  "language_info": {
   "codemirror_mode": {
    "name": "ipython",
    "version": 3
   },
   "file_extension": ".py",
   "mimetype": "text/x-python",
   "name": "python",
   "nbconvert_exporter": "python",
   "pygments_lexer": "ipython3",
   "version": "3.11.7"
  }
 },
 "nbformat": 4,
 "nbformat_minor": 5
}
